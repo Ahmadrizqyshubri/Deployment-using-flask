{
 "cells": [
  {
   "cell_type": "code",
   "execution_count": 1,
   "id": "a313e1ea",
   "metadata": {},
   "outputs": [],
   "source": [
    "from flask import Flask, render_template, request\n",
    "import pandas as pd"
   ]
  },
  {
   "cell_type": "code",
   "execution_count": 13,
   "id": "d166697d",
   "metadata": {},
   "outputs": [],
   "source": [
    "model = load_model('coba.pkl')"
   ]
  },
  {
   "cell_type": "code",
   "execution_count": 12,
   "id": "e1e03cd3",
   "metadata": {},
   "outputs": [
    {
     "name": "stdout",
     "output_type": "stream",
     "text": [
      " * Serving Flask app '__main__'\n",
      " * Debug mode: off\n"
     ]
    },
    {
     "name": "stderr",
     "output_type": "stream",
     "text": [
      "WARNING: This is a development server. Do not use it in a production deployment. Use a production WSGI server instead.\n",
      " * Running on all addresses (0.0.0.0)\n",
      " * Running on http://127.0.0.1:5000\n",
      " * Running on http://192.168.43.168:5000\n",
      "Press CTRL+C to quit\n",
      "127.0.0.1 - - [13/Jan/2024 12:35:57] \"GET / HTTP/1.1\" 200 -\n",
      "127.0.0.1 - - [13/Jan/2024 12:35:57] \"GET /static/styles.css HTTP/1.1\" 404 -\n",
      "127.0.0.1 - - [13/Jan/2024 12:35:58] \"GET /static/favicon.ico HTTP/1.1\" 404 -\n",
      "127.0.0.1 - - [13/Jan/2024 12:36:14] \"POST / HTTP/1.1\" 200 -\n"
     ]
    }
   ],
   "source": [
    "app = Flask(__name__)\n",
    "\n",
    "@app.route('/', methods=['GET','POST'])\n",
    "\n",
    "def index():\n",
    "    if request.method == 'GET':\n",
    "        return render_template('upload.html')\n",
    "    elif request.method == 'POST':\n",
    "        csv_file = request.files.get('file')\n",
    "        data = pd.read_csv(csv_file)\n",
    "        X_test = data.drop(columns=\"Outcome\")\n",
    "        data['Prediction'] = model.predict(X_test)\n",
    "        return data.to_html()\n",
    "\n",
    "if __name__ == '__main__':\n",
    "    app.run(host='0.0.0.0', port='5000')"
   ]
  },
  {
   "cell_type": "code",
   "execution_count": null,
   "id": "6ad24e6b",
   "metadata": {},
   "outputs": [],
   "source": []
  },
  {
   "cell_type": "code",
   "execution_count": null,
   "id": "a578be2c",
   "metadata": {},
   "outputs": [],
   "source": []
  },
  {
   "cell_type": "code",
   "execution_count": null,
   "id": "21fa1f5d",
   "metadata": {},
   "outputs": [],
   "source": []
  },
  {
   "cell_type": "code",
   "execution_count": null,
   "id": "e9573183",
   "metadata": {},
   "outputs": [],
   "source": []
  }
 ],
 "metadata": {
  "kernelspec": {
   "display_name": "Python 3 (ipykernel)",
   "language": "python",
   "name": "python3"
  },
  "language_info": {
   "codemirror_mode": {
    "name": "ipython",
    "version": 3
   },
   "file_extension": ".py",
   "mimetype": "text/x-python",
   "name": "python",
   "nbconvert_exporter": "python",
   "pygments_lexer": "ipython3",
   "version": "3.9.18"
  }
 },
 "nbformat": 4,
 "nbformat_minor": 5
}
